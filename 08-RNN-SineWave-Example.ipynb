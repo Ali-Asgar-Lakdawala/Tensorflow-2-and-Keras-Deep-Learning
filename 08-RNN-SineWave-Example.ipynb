{
 "cells": [
  {
   "cell_type": "code",
   "execution_count": 1,
   "id": "782e7dd8",
   "metadata": {},
   "outputs": [],
   "source": [
    "import numpy as np\n",
    "import pandas as pd \n",
    "import matplotlib.pyplot as plt\n",
    "import math \n",
    "import tensorflow"
   ]
  },
  {
   "cell_type": "code",
   "execution_count": 2,
   "id": "030b880b",
   "metadata": {},
   "outputs": [
    {
     "data": {
      "text/html": [
       "<div>\n",
       "<style scoped>\n",
       "    .dataframe tbody tr th:only-of-type {\n",
       "        vertical-align: middle;\n",
       "    }\n",
       "\n",
       "    .dataframe tbody tr th {\n",
       "        vertical-align: top;\n",
       "    }\n",
       "\n",
       "    .dataframe thead th {\n",
       "        text-align: right;\n",
       "    }\n",
       "</style>\n",
       "<table border=\"1\" class=\"dataframe\">\n",
       "  <thead>\n",
       "    <tr style=\"text-align: right;\">\n",
       "      <th></th>\n",
       "      <th>sine</th>\n",
       "    </tr>\n",
       "  </thead>\n",
       "  <tbody>\n",
       "    <tr>\n",
       "      <th>0</th>\n",
       "      <td>0.000000</td>\n",
       "    </tr>\n",
       "    <tr>\n",
       "      <th>1</th>\n",
       "      <td>0.099833</td>\n",
       "    </tr>\n",
       "    <tr>\n",
       "      <th>2</th>\n",
       "      <td>0.198669</td>\n",
       "    </tr>\n",
       "    <tr>\n",
       "      <th>3</th>\n",
       "      <td>0.295520</td>\n",
       "    </tr>\n",
       "    <tr>\n",
       "      <th>4</th>\n",
       "      <td>0.389418</td>\n",
       "    </tr>\n",
       "    <tr>\n",
       "      <th>...</th>\n",
       "      <td>...</td>\n",
       "    </tr>\n",
       "    <tr>\n",
       "      <th>496</th>\n",
       "      <td>-0.617439</td>\n",
       "    </tr>\n",
       "    <tr>\n",
       "      <th>497</th>\n",
       "      <td>-0.535823</td>\n",
       "    </tr>\n",
       "    <tr>\n",
       "      <th>498</th>\n",
       "      <td>-0.448854</td>\n",
       "    </tr>\n",
       "    <tr>\n",
       "      <th>499</th>\n",
       "      <td>-0.357400</td>\n",
       "    </tr>\n",
       "    <tr>\n",
       "      <th>500</th>\n",
       "      <td>-0.262375</td>\n",
       "    </tr>\n",
       "  </tbody>\n",
       "</table>\n",
       "<p>501 rows × 1 columns</p>\n",
       "</div>"
      ],
      "text/plain": [
       "         sine\n",
       "0    0.000000\n",
       "1    0.099833\n",
       "2    0.198669\n",
       "3    0.295520\n",
       "4    0.389418\n",
       "..        ...\n",
       "496 -0.617439\n",
       "497 -0.535823\n",
       "498 -0.448854\n",
       "499 -0.357400\n",
       "500 -0.262375\n",
       "\n",
       "[501 rows x 1 columns]"
      ]
     },
     "execution_count": 2,
     "metadata": {},
     "output_type": "execute_result"
    }
   ],
   "source": [
    "df=pd.DataFrame(np.sin(np.linspace(0,50,501)),columns=['sine'])\n",
    "df"
   ]
  },
  {
   "cell_type": "code",
   "execution_count": 3,
   "id": "f01d44cc",
   "metadata": {},
   "outputs": [
    {
     "data": {
      "text/plain": [
       "<AxesSubplot:>"
      ]
     },
     "execution_count": 3,
     "metadata": {},
     "output_type": "execute_result"
    },
    {
     "data": {
      "image/png": "[encoded data removed]",
      "text/plain": [
       "<Figure size 432x288 with 1 Axes>"
      ]
     },
     "metadata": {
      "needs_background": "light"
     },
     "output_type": "display_data"
    }
   ],
   "source": [
    "df.plot()"
   ]
  },
  {
   "cell_type": "code",
   "execution_count": 4,
   "id": "e51dbadc",
   "metadata": {},
   "outputs": [],
   "source": [
    "length=round(len(df)*0.1)"
   ]
  },
  {
   "cell_type": "code",
   "execution_count": 5,
   "id": "9d300152",
   "metadata": {},
   "outputs": [],
   "source": [
    "X_train=df[:-length]"
   ]
  },
  {
   "cell_type": "code",
   "execution_count": 6,
   "id": "94906c32",
   "metadata": {},
   "outputs": [],
   "source": [
    "X_test=df[-length:]"
   ]
  },
  {
   "cell_type": "code",
   "execution_count": 7,
   "id": "abea66e5",
   "metadata": {},
   "outputs": [],
   "source": [
    "import sklearn"
   ]
  },
  {
   "cell_type": "code",
   "execution_count": 8,
   "id": "fd627411",
   "metadata": {},
   "outputs": [],
   "source": [
    "from sklearn.preprocessing import MinMaxScaler"
   ]
  },
  {
   "cell_type": "code",
   "execution_count": 9,
   "id": "47312a67",
   "metadata": {},
   "outputs": [],
   "source": [
    "scaler=MinMaxScaler()\n"
   ]
  },
  {
   "cell_type": "code",
   "execution_count": 10,
   "id": "b109c501",
   "metadata": {},
   "outputs": [],
   "source": [
    "x_train_scaled=scaler.fit_transform(X_train)\n",
    "x_test_scaled=scaler.transform(X_test)"
   ]
  },
  {
   "cell_type": "code",
   "execution_count": 11,
   "id": "d966f850",
   "metadata": {},
   "outputs": [],
   "source": [
    "from tensorflow.keras.preprocessing.sequence import TimeseriesGenerator"
   ]
  },
  {
   "cell_type": "code",
   "execution_count": 12,
   "id": "6cfc9869",
   "metadata": {},
   "outputs": [],
   "source": [
    "length=49\n",
    "batch_size=1\n",
    "\n",
    "generator= TimeseriesGenerator(x_train_scaled,x_train_scaled,length=length,batch_size=batch_size)"
   ]
  },
  {
   "cell_type": "code",
   "execution_count": 13,
   "id": "a259ad66",
   "metadata": {},
   "outputs": [
    {
     "data": {
      "text/plain": [
       "402"
      ]
     },
     "execution_count": 13,
     "metadata": {},
     "output_type": "execute_result"
    }
   ],
   "source": [
    "len(generator)"
   ]
  },
  {
   "cell_type": "code",
   "execution_count": 14,
   "id": "5076d0bb",
   "metadata": {},
   "outputs": [],
   "source": [
    "x, y = generator[0]"
   ]
  },
  {
   "cell_type": "code",
   "execution_count": 15,
   "id": "205fe661",
   "metadata": {},
   "outputs": [],
   "source": [
    "from tensorflow.keras.models import Sequential\n",
    "from tensorflow.keras.layers import Dense,SimpleRNN\n",
    "from tensorflow.keras.callbacks import EarlyStopping       "
   ]
  },
  {
   "cell_type": "code",
   "execution_count": 16,
   "id": "ab570794",
   "metadata": {},
   "outputs": [],
   "source": [
    "early_stopping=EarlyStopping(monitor='loss', patience=1)"
   ]
  },
  {
   "cell_type": "code",
   "execution_count": 17,
   "id": "a1e577b6",
   "metadata": {},
   "outputs": [],
   "source": [
    "n_features = 1"
   ]
  },
  {
   "cell_type": "code",
   "execution_count": 18,
   "id": "fa1199f2",
   "metadata": {},
   "outputs": [],
   "source": [
    "model=Sequential()\n",
    "model.add(SimpleRNN(50,input_shape=(length,n_features),activation='relu'))\n",
    "model.add(Dense(1,activation='linear'))\n",
    "model.compile(loss='mse',optimizer='adam')"
   ]
  },
  {
   "cell_type": "code",
   "execution_count": 19,
   "id": "78d9ba20",
   "metadata": {},
   "outputs": [
    {
     "name": "stdout",
     "output_type": "stream",
     "text": [
      "Model: \"sequential\"\n",
      "_________________________________________________________________\n",
      "Layer (type)                 Output Shape              Param #   \n",
      "=================================================================\n",
      "simple_rnn (SimpleRNN)       (None, 50)                2600      \n",
      "_________________________________________________________________\n",
      "dense (Dense)                (None, 1)                 51        \n",
      "=================================================================\n",
      "Total params: 2,651\n",
      "Trainable params: 2,651\n",
      "Non-trainable params: 0\n",
      "_________________________________________________________________\n"
     ]
    }
   ],
   "source": [
    "model.summary()"
   ]
  },
  {
   "cell_type": "code",
   "execution_count": 20,
   "id": "2d433f8a",
   "metadata": {},
   "outputs": [
    {
     "name": "stdout",
     "output_type": "stream",
     "text": [
      "Epoch 1/5\n"
     ]
    },
    {
     "name": "stderr",
     "output_type": "stream",
     "text": [
      "C:\\Users\\asus\\anaconda3\\lib\\site-packages\\keras\\engine\\training.py:1972: UserWarning: `Model.fit_generator` is deprecated and will be removed in a future version. Please use `Model.fit`, which supports generators.\n",
      "  warnings.warn('`Model.fit_generator` is deprecated and '\n"
     ]
    },
    {
     "name": "stdout",
     "output_type": "stream",
     "text": [
      "402/402 [==============================] - 33s 80ms/step - loss: 0.0048\n",
      "Epoch 2/5\n",
      "402/402 [==============================] - 38s 93ms/step - loss: 1.4152e-04\n",
      "Epoch 3/5\n",
      "402/402 [==============================] - 42s 105ms/step - loss: 1.8882e-04\n",
      "Epoch 4/5\n",
      "402/402 [==============================] - 43s 107ms/step - loss: 5.1281e-05\n",
      "Epoch 5/5\n",
      "402/402 [==============================] - 45s 112ms/step - loss: 2.6000e-05\n"
     ]
    },
    {
     "data": {
      "text/plain": [
       "<keras.callbacks.History at 0x26fc28b3eb0>"
      ]
     },
     "execution_count": 20,
     "metadata": {},
     "output_type": "execute_result"
    }
   ],
   "source": [
    "model.fit_generator(generator,epochs=5)"
   ]
  },
  {
   "cell_type": "code",
   "execution_count": 21,
   "id": "c6cf617c",
   "metadata": {},
   "outputs": [
    {
     "data": {
      "text/plain": [
       "<AxesSubplot:>"
      ]
     },
     "execution_count": 21,
     "metadata": {},
     "output_type": "execute_result"
    },
    {
     "data": {
      "image/png": "[encoded data removed]",
      "text/plain": [
       "<Figure size 432x288 with 1 Axes>"
      ]
     },
     "metadata": {
      "needs_background": "light"
     },
     "output_type": "display_data"
    }
   ],
   "source": [
    "losses=pd.DataFrame(model.history.history)\n",
    "losses.plot()"
   ]
  },
  {
   "cell_type": "code",
   "execution_count": 22,
   "id": "84a3a773",
   "metadata": {},
   "outputs": [],
   "source": [
    "first_eval_batch = x_train_scaled[-length:]"
   ]
  },
  {
   "cell_type": "code",
   "execution_count": 23,
   "id": "ac5fa3be",
   "metadata": {},
   "outputs": [],
   "source": [
    "current_batch=first_eval_batch.reshape(1,length,n_features)"
   ]
  },
  {
   "cell_type": "code",
   "execution_count": 24,
   "id": "db64b515",
   "metadata": {},
   "outputs": [
    {
     "data": {
      "text/plain": [
       "array([[0.94993573]], dtype=float32)"
      ]
     },
     "execution_count": 24,
     "metadata": {},
     "output_type": "execute_result"
    }
   ],
   "source": [
    "model.predict(current_batch)"
   ]
  },
  {
   "cell_type": "code",
   "execution_count": 25,
   "id": "cc6ec350",
   "metadata": {},
   "outputs": [],
   "source": [
    "# current_batch"
   ]
  },
  {
   "cell_type": "code",
   "execution_count": 26,
   "id": "954bba81",
   "metadata": {},
   "outputs": [],
   "source": [
    "# current_batch[:,1:,:]"
   ]
  },
  {
   "cell_type": "code",
   "execution_count": 27,
   "id": "f97087fa",
   "metadata": {},
   "outputs": [],
   "source": [
    "new_value=model.predict(current_batch)"
   ]
  },
  {
   "cell_type": "code",
   "execution_count": 35,
   "id": "e721529e",
   "metadata": {},
   "outputs": [],
   "source": [
    "# np.append(current_batch[:,1:,:],new_value).reshape(1,length,n_features)"
   ]
  },
  {
   "cell_type": "code",
   "execution_count": 36,
   "id": "8063becd",
   "metadata": {},
   "outputs": [],
   "source": [
    "predicted_values=[]\n",
    "first_eval_batch = x_train_scaled[-length:]\n",
    "current_batch=first_eval_batch.reshape(1,length,n_features)\n",
    "\n",
    "for i in range(length+1):\n",
    "    prediction=model.predict(current_batch)[0]\n",
    "    predicted_values.append(prediction)\n",
    "    current_batch=np.append(current_batch[:,1:,:],prediction).reshape(1,length,n_features)\n",
    "    \n",
    "    "
   ]
  },
  {
   "cell_type": "code",
   "execution_count": 37,
   "id": "bedae03e",
   "metadata": {},
   "outputs": [
    {
     "data": {
      "text/plain": [
       "<function list.append(object, /)>"
      ]
     },
     "execution_count": 37,
     "metadata": {},
     "output_type": "execute_result"
    }
   ],
   "source": [
    "predicted_values.append"
   ]
  },
  {
   "cell_type": "code",
   "execution_count": 38,
   "id": "dd1f9597",
   "metadata": {},
   "outputs": [
    {
     "data": {
      "text/plain": [
       "50"
      ]
     },
     "execution_count": 38,
     "metadata": {},
     "output_type": "execute_result"
    }
   ],
   "source": [
    "len(predicted_values)"
   ]
  },
  {
   "cell_type": "code",
   "execution_count": 39,
   "id": "72c02514",
   "metadata": {},
   "outputs": [
    {
     "data": {
      "text/plain": [
       "[array([0.94993573], dtype=float32),\n",
       " array([0.96974003], dtype=float32),\n",
       " array([0.984836], dtype=float32),\n",
       " array([0.9950868], dtype=float32),\n",
       " array([1.0003724], dtype=float32),\n",
       " array([1.0006158], dtype=float32),\n",
       " array([0.9958092], dtype=float32),\n",
       " array([0.98601025], dtype=float32),\n",
       " array([0.9713116], dtype=float32),\n",
       " array([0.95185065], dtype=float32),\n",
       " array([0.92783815], dtype=float32),\n",
       " array([0.89952236], dtype=float32),\n",
       " array([0.8671974], dtype=float32),\n",
       " array([0.8312011], dtype=float32),\n",
       " array([0.7919114], dtype=float32),\n",
       " array([0.7497434], dtype=float32),\n",
       " array([0.7051414], dtype=float32),\n",
       " array([0.6585803], dtype=float32),\n",
       " array([0.61055124], dtype=float32),\n",
       " array([0.5615655], dtype=float32),\n",
       " array([0.5121467], dtype=float32),\n",
       " array([0.4631256], dtype=float32),\n",
       " array([0.4150897], dtype=float32),\n",
       " array([0.36706755], dtype=float32),\n",
       " array([0.32015514], dtype=float32),\n",
       " array([0.2762724], dtype=float32),\n",
       " array([0.2341954], dtype=float32),\n",
       " array([0.1949953], dtype=float32),\n",
       " array([0.1588271], dtype=float32),\n",
       " array([0.12614332], dtype=float32),\n",
       " array([0.09737383], dtype=float32),\n",
       " array([0.07267478], dtype=float32),\n",
       " array([0.05200756], dtype=float32),\n",
       " array([0.03401205], dtype=float32),\n",
       " array([0.02149255], dtype=float32),\n",
       " array([0.01448246], dtype=float32),\n",
       " array([0.0100783], dtype=float32),\n",
       " array([0.00962317], dtype=float32),\n",
       " array([0.0155798], dtype=float32),\n",
       " array([0.02650218], dtype=float32),\n",
       " array([0.04233009], dtype=float32),\n",
       " array([0.06519024], dtype=float32),\n",
       " array([0.09228577], dtype=float32),\n",
       " array([0.12331784], dtype=float32),\n",
       " array([0.15831724], dtype=float32),\n",
       " array([0.19850479], dtype=float32),\n",
       " array([0.24019036], dtype=float32),\n",
       " array([0.28290913], dtype=float32),\n",
       " array([0.3288956], dtype=float32),\n",
       " array([0.37699023], dtype=float32)]"
      ]
     },
     "execution_count": 39,
     "metadata": {},
     "output_type": "execute_result"
    }
   ],
   "source": [
    "predicted_values"
   ]
  },
  {
   "cell_type": "code",
   "execution_count": 40,
   "id": "294f83ce",
   "metadata": {},
   "outputs": [],
   "source": [
    "true_predictions = scaler.inverse_transform(predicted_values)"
   ]
  },
  {
   "cell_type": "code",
   "execution_count": 41,
   "id": "b57e1e70",
   "metadata": {},
   "outputs": [
    {
     "name": "stderr",
     "output_type": "stream",
     "text": [
      "C:\\Users\\asus\\AppData\\Local\\Temp/ipykernel_6428/290687461.py:1: SettingWithCopyWarning: \n",
      "A value is trying to be set on a copy of a slice from a DataFrame.\n",
      "Try using .loc[row_indexer,col_indexer] = value instead\n",
      "\n",
      "See the caveats in the documentation: https://pandas.pydata.org/pandas-docs/stable/user_guide/indexing.html#returning-a-view-versus-a-copy\n",
      "  X_test['Predictions'] = true_predictions\n"
     ]
    }
   ],
   "source": [
    "X_test['Predictions'] = true_predictions"
   ]
  },
  {
   "cell_type": "code",
   "execution_count": 42,
   "id": "4269653f",
   "metadata": {
    "scrolled": true
   },
   "outputs": [
    {
     "data": {
      "text/plain": [
       "<AxesSubplot:>"
      ]
     },
     "execution_count": 42,
     "metadata": {},
     "output_type": "execute_result"
    },
    {
     "data": {
      "image/png": "[encoded data removed]",
      "text/plain": [
       "<Figure size 432x288 with 1 Axes>"
      ]
     },
     "metadata": {
      "needs_background": "light"
     },
     "output_type": "display_data"
    }
   ],
   "source": [
    "X_test.plot()"
   ]
  },
  {
   "cell_type": "code",
   "execution_count": 52,
   "id": "479c290e",
   "metadata": {},
   "outputs": [],
   "source": [
    "early_stopping=EarlyStopping(monitor='val_loss', patience=2)"
   ]
  },
  {
   "cell_type": "code",
   "execution_count": 53,
   "id": "9e3b6cef",
   "metadata": {},
   "outputs": [],
   "source": [
    "length=49\n",
    "generator=TimeseriesGenerator(x_train_scaled,x_train_scaled,length=length,batch_size=1)\n",
    "validation_generator=TimeseriesGenerator(x_test_scaled,x_test_scaled,length=length,batch_size=batch_size)"
   ]
  },
  {
   "cell_type": "code",
   "execution_count": 54,
   "id": "1d17e0b6",
   "metadata": {},
   "outputs": [],
   "source": [
    "from tensorflow.keras.layers import LSTM"
   ]
  },
  {
   "cell_type": "code",
   "execution_count": 55,
   "id": "b20c520c",
   "metadata": {},
   "outputs": [],
   "source": [
    "model=Sequential()\n",
    "\n",
    "model.add(LSTM(49,input_shape=(length,n_features),activation=\"tanh\"))\n",
    "\n",
    "model.add(Dense(1))\n",
    "\n",
    "model.compile(loss='mse',optimizer='adam')"
   ]
  },
  {
   "cell_type": "code",
   "execution_count": 56,
   "id": "85207f4a",
   "metadata": {},
   "outputs": [
    {
     "name": "stdout",
     "output_type": "stream",
     "text": [
      "Epoch 1/20\n",
      "402/402 [==============================] - 3s 6ms/step - loss: 0.0275 - val_loss: 1.6194e-04\n",
      "Epoch 2/20\n",
      "402/402 [==============================] - 2s 5ms/step - loss: 1.1942e-04 - val_loss: 9.6436e-07\n",
      "Epoch 3/20\n",
      "402/402 [==============================] - 2s 5ms/step - loss: 1.0406e-04 - val_loss: 1.5421e-05\n",
      "Epoch 4/20\n",
      "402/402 [==============================] - 2s 5ms/step - loss: 1.7582e-04 - val_loss: 6.6681e-05\n"
     ]
    },
    {
     "data": {
      "text/plain": [
       "<keras.callbacks.History at 0x270cce67fd0>"
      ]
     },
     "execution_count": 56,
     "metadata": {},
     "output_type": "execute_result"
    }
   ],
   "source": [
    "model.fit(generator,epochs=20,\n",
    "          validation_data=validation_generator,\n",
    "          callbacks=[early_stopping])"
   ]
  },
  {
   "cell_type": "code",
   "execution_count": 57,
   "id": "d8349b63",
   "metadata": {},
   "outputs": [],
   "source": [
    "predicted_values=[]\n",
    "first_eval_batch = x_train_scaled[-length:]\n",
    "current_batch=first_eval_batch.reshape(1,length,n_features)\n",
    "\n",
    "for i in range(length+1):\n",
    "    prediction=model.predict(current_batch)[0]\n",
    "    predicted_values.append(prediction)\n",
    "    current_batch=np.append(current_batch[:,1:,:],prediction).reshape(1,length,n_features)\n",
    "    \n",
    "    "
   ]
  },
  {
   "cell_type": "code",
   "execution_count": 58,
   "id": "23ee0316",
   "metadata": {},
   "outputs": [
    {
     "name": "stderr",
     "output_type": "stream",
     "text": [
      "C:\\Users\\asus\\AppData\\Local\\Temp/ipykernel_6428/665332311.py:2: SettingWithCopyWarning: \n",
      "A value is trying to be set on a copy of a slice from a DataFrame.\n",
      "Try using .loc[row_indexer,col_indexer] = value instead\n",
      "\n",
      "See the caveats in the documentation: https://pandas.pydata.org/pandas-docs/stable/user_guide/indexing.html#returning-a-view-versus-a-copy\n",
      "  X_test['LSTM_Predictions'] = true_predictions\n"
     ]
    },
    {
     "data": {
      "text/plain": [
       "<AxesSubplot:>"
      ]
     },
     "execution_count": 58,
     "metadata": {},
     "output_type": "execute_result"
    },
    {
     "data": {
      "image/png": "[encoded data removed]",
      "text/plain": [
       "<Figure size 432x288 with 1 Axes>"
      ]
     },
     "metadata": {
      "needs_background": "light"
     },
     "output_type": "display_data"
    }
   ],
   "source": [
    "true_predictions = scaler.inverse_transform(predicted_values)\n",
    "X_test['LSTM_Predictions'] = true_predictions\n",
    "X_test.plot()"
   ]
  },
  {
   "cell_type": "code",
   "execution_count": 60,
   "id": "9c27bfa7",
   "metadata": {},
   "outputs": [],
   "source": [
    "full_scaler = MinMaxScaler()\n",
    "scaled_full_data = full_scaler.fit_transform(df)"
   ]
  },
  {
   "cell_type": "code",
   "execution_count": 61,
   "id": "4baf40ff",
   "metadata": {},
   "outputs": [],
   "source": [
    "generator = TimeseriesGenerator(scaled_full_data, scaled_full_data, length=length, batch_size=1)"
   ]
  },
  {
   "cell_type": "code",
   "execution_count": 62,
   "id": "056e56dc",
   "metadata": {},
   "outputs": [
    {
     "data": {
      "text/plain": [
       "49"
      ]
     },
     "execution_count": 62,
     "metadata": {},
     "output_type": "execute_result"
    }
   ],
   "source": [
    "length"
   ]
  },
  {
   "cell_type": "code",
   "execution_count": 64,
   "id": "06a66007",
   "metadata": {},
   "outputs": [
    {
     "name": "stdout",
     "output_type": "stream",
     "text": [
      "Epoch 1/6\n",
      "452/452 [==============================] - 4s 6ms/step - loss: 0.0176\n",
      "Epoch 2/6\n",
      "452/452 [==============================] - 3s 6ms/step - loss: 8.0815e-05\n",
      "Epoch 3/6\n",
      "452/452 [==============================] - 3s 6ms/step - loss: 1.4134e-04\n",
      "Epoch 4/6\n",
      "452/452 [==============================] - 2s 5ms/step - loss: 1.5466e-04\n",
      "Epoch 5/6\n",
      "452/452 [==============================] - 2s 5ms/step - loss: 1.1479e-04\n",
      "Epoch 6/6\n",
      "452/452 [==============================] - 3s 6ms/step - loss: 2.2652e-04\n"
     ]
    },
    {
     "data": {
      "text/plain": [
       "<keras.callbacks.History at 0x270d85091f0>"
      ]
     },
     "execution_count": 64,
     "metadata": {},
     "output_type": "execute_result"
    }
   ],
   "source": [
    "model=Sequential()\n",
    "\n",
    "model.add(LSTM(49,input_shape=(length,n_features),activation=\"tanh\"))\n",
    "\n",
    "model.add(Dense(1))\n",
    "\n",
    "model.compile(loss='mse',optimizer='adam')\n",
    "model.fit(generator,epochs=6)"
   ]
  },
  {
   "cell_type": "code",
   "execution_count": 84,
   "id": "237f6e49",
   "metadata": {},
   "outputs": [],
   "source": [
    "forecast = []\n",
    "\n",
    "first_eval_batch = scaled_full_data[-length:]\n",
    "current_batch = first_eval_batch.reshape((1, length, n_features))\n",
    "\n",
    "for i in range(200):\n",
    "    \n",
    "    # get prediction 1 time stamp ahead ([0] is for grabbing just the number instead of [array])\n",
    "    current_pred = model.predict(current_batch)[0]\n",
    "    \n",
    "    # store prediction\n",
    "    forecast.append(current_pred) \n",
    "    \n",
    "    # update batch to now include prediction and drop first value\n",
    "    current_batch = np.append(current_batch[:,1:,:],[[current_pred]],axis=1)"
   ]
  },
  {
   "cell_type": "code",
   "execution_count": 85,
   "id": "c0699cc3",
   "metadata": {},
   "outputs": [],
   "source": [
    "forecast = scaler.inverse_transform(forecast)"
   ]
  },
  {
   "cell_type": "code",
   "execution_count": 86,
   "id": "6276bc07",
   "metadata": {},
   "outputs": [
    {
     "data": {
      "text/html": [
       "<div>\n",
       "<style scoped>\n",
       "    .dataframe tbody tr th:only-of-type {\n",
       "        vertical-align: middle;\n",
       "    }\n",
       "\n",
       "    .dataframe tbody tr th {\n",
       "        vertical-align: top;\n",
       "    }\n",
       "\n",
       "    .dataframe thead th {\n",
       "        text-align: right;\n",
       "    }\n",
       "</style>\n",
       "<table border=\"1\" class=\"dataframe\">\n",
       "  <thead>\n",
       "    <tr style=\"text-align: right;\">\n",
       "      <th></th>\n",
       "      <th>sine</th>\n",
       "    </tr>\n",
       "  </thead>\n",
       "  <tbody>\n",
       "    <tr>\n",
       "      <th>0</th>\n",
       "      <td>0.000000</td>\n",
       "    </tr>\n",
       "    <tr>\n",
       "      <th>1</th>\n",
       "      <td>0.099833</td>\n",
       "    </tr>\n",
       "    <tr>\n",
       "      <th>2</th>\n",
       "      <td>0.198669</td>\n",
       "    </tr>\n",
       "    <tr>\n",
       "      <th>3</th>\n",
       "      <td>0.295520</td>\n",
       "    </tr>\n",
       "    <tr>\n",
       "      <th>4</th>\n",
       "      <td>0.389418</td>\n",
       "    </tr>\n",
       "    <tr>\n",
       "      <th>...</th>\n",
       "      <td>...</td>\n",
       "    </tr>\n",
       "    <tr>\n",
       "      <th>496</th>\n",
       "      <td>-0.617439</td>\n",
       "    </tr>\n",
       "    <tr>\n",
       "      <th>497</th>\n",
       "      <td>-0.535823</td>\n",
       "    </tr>\n",
       "    <tr>\n",
       "      <th>498</th>\n",
       "      <td>-0.448854</td>\n",
       "    </tr>\n",
       "    <tr>\n",
       "      <th>499</th>\n",
       "      <td>-0.357400</td>\n",
       "    </tr>\n",
       "    <tr>\n",
       "      <th>500</th>\n",
       "      <td>-0.262375</td>\n",
       "    </tr>\n",
       "  </tbody>\n",
       "</table>\n",
       "<p>501 rows × 1 columns</p>\n",
       "</div>"
      ],
      "text/plain": [
       "         sine\n",
       "0    0.000000\n",
       "1    0.099833\n",
       "2    0.198669\n",
       "3    0.295520\n",
       "4    0.389418\n",
       "..        ...\n",
       "496 -0.617439\n",
       "497 -0.535823\n",
       "498 -0.448854\n",
       "499 -0.357400\n",
       "500 -0.262375\n",
       "\n",
       "[501 rows x 1 columns]"
      ]
     },
     "execution_count": 86,
     "metadata": {},
     "output_type": "execute_result"
    }
   ],
   "source": [
    "df"
   ]
  },
  {
   "cell_type": "code",
   "execution_count": 87,
   "id": "2ee7a098",
   "metadata": {},
   "outputs": [],
   "source": [
    "forecast_index = np.arange(500,700,step=1)"
   ]
  },
  {
   "cell_type": "code",
   "execution_count": 88,
   "id": "f8834647",
   "metadata": {},
   "outputs": [],
   "source": [
    "forecast = forecast.reshape(len(forecast),)"
   ]
  },
  {
   "cell_type": "code",
   "execution_count": 89,
   "id": "6132d7f4",
   "metadata": {},
   "outputs": [
    {
     "data": {
      "text/plain": [
       "[<matplotlib.lines.Line2D at 0x270e43113a0>]"
      ]
     },
     "execution_count": 89,
     "metadata": {},
     "output_type": "execute_result"
    },
    {
     "data": {
      "image/png": "[encoded data removed]",
      "text/plain": [
       "<Figure size 432x288 with 1 Axes>"
      ]
     },
     "metadata": {
      "needs_background": "light"
     },
     "output_type": "display_data"
    }
   ],
   "source": [
    "plt.plot(df.index,df['sine'])\n",
    "plt.plot(forecast_index,forecast)"
   ]
  }
 ],
 "metadata": {
  "kernelspec": {
   "display_name": "Python 3 (ipykernel)",
   "language": "python",
   "name": "python3"
  },
  "language_info": {
   "codemirror_mode": {
    "name": "ipython",
    "version": 3
   },
   "file_extension": ".py",
   "mimetype": "text/x-python",
   "name": "python",
   "nbconvert_exporter": "python",
   "pygments_lexer": "ipython3",
   "version": "3.8.8"
  }
 },
 "nbformat": 4,
 "nbformat_minor": 5
}
