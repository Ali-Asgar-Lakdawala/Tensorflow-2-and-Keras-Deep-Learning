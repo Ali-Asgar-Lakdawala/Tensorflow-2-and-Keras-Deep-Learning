{
  "nbformat": 4,
  "nbformat_minor": 0,
  "metadata": {
    "colab": {
      "name": "05-Keras-CNN-CIFAR-10.ipynb",
      "provenance": [],
      "authorship_tag": "ABX9TyPgSP9kfgiU29DTi/VemUyA",
      "include_colab_link": true
    },
    "kernelspec": {
      "name": "python3",
      "display_name": "Python 3"
    },
    "language_info": {
      "name": "python"
    },
    "accelerator": "GPU"
  },
  "cells": [
    {
      "cell_type": "markdown",
      "metadata": {
        "id": "view-in-github",
        "colab_type": "text"
      },
      "source": [
        "<a href=\"https://colab.research.google.com/github/Ali-Asgar-Lakdawala/Tensorflow-2-and-Keras-Deep-Learning/blob/main/05_Keras_CNN_CIFAR_10.ipynb\" target=\"_parent\"><img src=\"https://colab.research.google.com/assets/colab-badge.svg\" alt=\"Open In Colab\"/></a>"
      ]
    },
    {
      "cell_type": "code",
      "metadata": {
        "id": "X9j1KHtfW_1O"
      },
      "source": [
        "from tensorflow.keras.datasets import mnist\n",
        "import matplotlib.pyplot as plt\n",
        "import pandas as pd\n",
        "import numpy as np\n"
      ],
      "execution_count": 1,
      "outputs": []
    },
    {
      "cell_type": "code",
      "metadata": {
        "id": "PP2sXaLGRhFR"
      },
      "source": [
        "from tensorflow.keras.datasets import cifar10\n",
        "from tensorflow.keras.datasets import cifar100"
      ],
      "execution_count": 2,
      "outputs": []
    },
    {
      "cell_type": "code",
      "metadata": {
        "id": "l7XgRtz0UUSA"
      },
      "source": [
        "# (X_train,y_train),(X_test,y_test)=cifar100.load_data()"
      ],
      "execution_count": 3,
      "outputs": []
    },
    {
      "cell_type": "code",
      "metadata": {
        "colab": {
          "base_uri": "https://localhost:8080/"
        },
        "id": "QDE9MaoDRmvb",
        "outputId": "d5908727-47ac-444f-9c87-42db0758d319"
      },
      "source": [
        "(X_train,y_train),(X_test,y_test)=cifar10.load_data()"
      ],
      "execution_count": 4,
      "outputs": [
        {
          "output_type": "stream",
          "name": "stdout",
          "text": [
            "Downloading data from https://www.cs.toronto.edu/~kriz/cifar-10-python.tar.gz\n",
            "170500096/170498071 [==============================] - 6s 0us/step\n",
            "170508288/170498071 [==============================] - 6s 0us/step\n"
          ]
        }
      ]
    },
    {
      "cell_type": "code",
      "metadata": {
        "colab": {
          "base_uri": "https://localhost:8080/"
        },
        "id": "wcI5GAnVR3dV",
        "outputId": "601acc28-5b3f-423f-b2ec-aaa3e0df54f9"
      },
      "source": [
        "X_train.shape"
      ],
      "execution_count": 5,
      "outputs": [
        {
          "output_type": "execute_result",
          "data": {
            "text/plain": [
              "(50000, 32, 32, 3)"
            ]
          },
          "metadata": {},
          "execution_count": 5
        }
      ]
    },
    {
      "cell_type": "code",
      "metadata": {
        "colab": {
          "base_uri": "https://localhost:8080/",
          "height": 283
        },
        "id": "I-KG9hW2R7Sw",
        "outputId": "edad9022-c48b-4525-e11c-8a73b1f5a5c5"
      },
      "source": [
        "plt.imshow(X_train[0])"
      ],
      "execution_count": 6,
      "outputs": [
        {
          "output_type": "execute_result",
          "data": {
            "text/plain": [
              "<matplotlib.image.AxesImage at 0x7f8d9eb7a490>"
            ]
          },
          "metadata": {},
          "execution_count": 6
        },
        {
          "output_type": "display_data",
          "data": {
            "image/png": "[encoded data removed]",
            "text/plain": [
              "<Figure size 432x288 with 1 Axes>"
            ]
          },
          "metadata": {
            "needs_background": "light"
          }
        }
      ]
    },
    {
      "cell_type": "code",
      "metadata": {
        "id": "23kYU0l6SEaG"
      },
      "source": [
        "X_train=X_train/255\n",
        "X_test=X_test/255"
      ],
      "execution_count": 7,
      "outputs": []
    },
    {
      "cell_type": "code",
      "metadata": {
        "colab": {
          "base_uri": "https://localhost:8080/"
        },
        "id": "e6KWuWsOTX_T",
        "outputId": "93b31fee-7c4f-4f37-a08e-cb24ead38c21"
      },
      "source": [
        "np.unique(y_train)"
      ],
      "execution_count": 8,
      "outputs": [
        {
          "output_type": "execute_result",
          "data": {
            "text/plain": [
              "array([0, 1, 2, 3, 4, 5, 6, 7, 8, 9], dtype=uint8)"
            ]
          },
          "metadata": {},
          "execution_count": 8
        }
      ]
    },
    {
      "cell_type": "code",
      "metadata": {
        "id": "JAF4pwNMTFs2"
      },
      "source": [
        "from tensorflow.keras.utils import to_categorical\n",
        "\n",
        "y_train=to_categorical(y_train,10)\n",
        "y_test=to_categorical(y_test,10)"
      ],
      "execution_count": 9,
      "outputs": []
    },
    {
      "cell_type": "code",
      "metadata": {
        "id": "qYlKyQtrTvfS"
      },
      "source": [
        "from tensorflow.keras.models import Sequential\n",
        "from tensorflow.keras.layers import Dense,Conv2D,MaxPool2D,Flatten,Dropout\n"
      ],
      "execution_count": 16,
      "outputs": []
    },
    {
      "cell_type": "code",
      "metadata": {
        "id": "iL8R-a8QK_Ry"
      },
      "source": [
        "model=Sequential()\n",
        "\n",
        "model.add(Conv2D(filters=64,kernel_size=(4,4),strides=(1,1),padding='same',input_shape=(32,32,3),activation='relu'))\n",
        "model.add(MaxPool2D(pool_size=(2,2)))\n",
        "\n",
        "model.add(Conv2D(filters=64,kernel_size=(4,4),strides=(1,1),padding='same',activation='relu',input_shape=(32,32,3)))\n",
        "model.add(MaxPool2D(pool_size=(2,2)))\n",
        "\n",
        "model.add(Flatten())\n",
        "\n",
        "model.add(Dense(256,activation='relu'))\n",
        "model.add(Dropout(0.2))\n",
        "\n",
        "model.add(Dense(128,activation='relu'))\n",
        "model.add(Dropout(0.2))\n",
        "model.add((Dense(10,activation='softmax')))\n",
        "\n",
        "model.compile(optimizer='adam',loss='categorical_crossentropy',metrics=['accuracy'])\n",
        "\n"
      ],
      "execution_count": 17,
      "outputs": []
    },
    {
      "cell_type": "code",
      "metadata": {
        "colab": {
          "base_uri": "https://localhost:8080/"
        },
        "id": "jwa8txx2V-8A",
        "outputId": "8e026017-cb91-4f66-e124-f1598a8b1b75"
      },
      "source": [
        "model.summary()"
      ],
      "execution_count": 18,
      "outputs": [
        {
          "output_type": "stream",
          "name": "stdout",
          "text": [
            "Model: \"sequential_1\"\n",
            "_________________________________________________________________\n",
            " Layer (type)                Output Shape              Param #   \n",
            "=================================================================\n",
            " conv2d_2 (Conv2D)           (None, 32, 32, 64)        3136      \n",
            "                                                                 \n",
            " max_pooling2d_2 (MaxPooling  (None, 16, 16, 64)       0         \n",
            " 2D)                                                             \n",
            "                                                                 \n",
            " conv2d_3 (Conv2D)           (None, 16, 16, 64)        65600     \n",
            "                                                                 \n",
            " max_pooling2d_3 (MaxPooling  (None, 8, 8, 64)         0         \n",
            " 2D)                                                             \n",
            "                                                                 \n",
            " flatten_1 (Flatten)         (None, 4096)              0         \n",
            "                                                                 \n",
            " dense_3 (Dense)             (None, 256)               1048832   \n",
            "                                                                 \n",
            " dropout (Dropout)           (None, 256)               0         \n",
            "                                                                 \n",
            " dense_4 (Dense)             (None, 128)               32896     \n",
            "                                                                 \n",
            " dropout_1 (Dropout)         (None, 128)               0         \n",
            "                                                                 \n",
            " dense_5 (Dense)             (None, 10)                1290      \n",
            "                                                                 \n",
            "=================================================================\n",
            "Total params: 1,151,754\n",
            "Trainable params: 1,151,754\n",
            "Non-trainable params: 0\n",
            "_________________________________________________________________\n"
          ]
        }
      ]
    },
    {
      "cell_type": "code",
      "metadata": {
        "id": "gmUuokNXWA5J"
      },
      "source": [
        "from tensorflow.keras.callbacks import EarlyStopping"
      ],
      "execution_count": 19,
      "outputs": []
    },
    {
      "cell_type": "code",
      "metadata": {
        "id": "JffIzExxWN2j"
      },
      "source": [
        "early_stoping=EarlyStopping(monitor='accuracy',patience=2,verbose=1,mode='max')"
      ],
      "execution_count": 20,
      "outputs": []
    },
    {
      "cell_type": "code",
      "metadata": {
        "colab": {
          "base_uri": "https://localhost:8080/"
        },
        "id": "dE0IWAnkWgt-",
        "outputId": "11f377cd-c5c7-4ceb-8cfd-1e114f7dd443"
      },
      "source": [
        "model.fit(X_train,y_train,epochs=25,validation_data=(X_test,y_test),callbacks=[early_stoping])"
      ],
      "execution_count": 21,
      "outputs": [
        {
          "output_type": "stream",
          "name": "stdout",
          "text": [
            "Epoch 1/25\n",
            "1563/1563 [==============================] - 18s 11ms/step - loss: 1.5143 - accuracy: 0.4475 - val_loss: 1.2626 - val_accuracy: 0.5526\n",
            "Epoch 2/25\n",
            "1563/1563 [==============================] - 15s 10ms/step - loss: 1.1093 - accuracy: 0.6074 - val_loss: 0.9975 - val_accuracy: 0.6531\n",
            "Epoch 3/25\n",
            "1563/1563 [==============================] - 15s 10ms/step - loss: 0.9441 - accuracy: 0.6695 - val_loss: 0.9117 - val_accuracy: 0.6889\n",
            "Epoch 4/25\n",
            "1563/1563 [==============================] - 15s 10ms/step - loss: 0.8302 - accuracy: 0.7100 - val_loss: 0.9114 - val_accuracy: 0.6841\n",
            "Epoch 5/25\n",
            "1563/1563 [==============================] - 15s 10ms/step - loss: 0.7355 - accuracy: 0.7423 - val_loss: 0.8984 - val_accuracy: 0.6893\n",
            "Epoch 6/25\n",
            "1563/1563 [==============================] - 17s 11ms/step - loss: 0.6566 - accuracy: 0.7699 - val_loss: 0.8593 - val_accuracy: 0.7067\n",
            "Epoch 7/25\n",
            "1563/1563 [==============================] - 17s 11ms/step - loss: 0.5903 - accuracy: 0.7927 - val_loss: 0.8988 - val_accuracy: 0.7093\n",
            "Epoch 8/25\n",
            "1563/1563 [==============================] - 15s 10ms/step - loss: 0.5293 - accuracy: 0.8127 - val_loss: 0.9348 - val_accuracy: 0.7018\n",
            "Epoch 9/25\n",
            "1563/1563 [==============================] - 16s 11ms/step - loss: 0.4800 - accuracy: 0.8297 - val_loss: 0.9312 - val_accuracy: 0.7051\n",
            "Epoch 10/25\n",
            "1563/1563 [==============================] - 17s 11ms/step - loss: 0.4360 - accuracy: 0.8471 - val_loss: 0.9665 - val_accuracy: 0.7164\n",
            "Epoch 11/25\n",
            "1563/1563 [==============================] - 17s 11ms/step - loss: 0.3939 - accuracy: 0.8608 - val_loss: 1.0113 - val_accuracy: 0.7085\n",
            "Epoch 12/25\n",
            "1563/1563 [==============================] - 16s 11ms/step - loss: 0.3582 - accuracy: 0.8729 - val_loss: 1.0276 - val_accuracy: 0.7117\n",
            "Epoch 13/25\n",
            "1563/1563 [==============================] - 15s 10ms/step - loss: 0.3311 - accuracy: 0.8835 - val_loss: 1.1062 - val_accuracy: 0.7037\n",
            "Epoch 14/25\n",
            "1563/1563 [==============================] - 15s 10ms/step - loss: 0.3128 - accuracy: 0.8905 - val_loss: 1.0874 - val_accuracy: 0.7062\n",
            "Epoch 15/25\n",
            "1563/1563 [==============================] - 15s 10ms/step - loss: 0.2876 - accuracy: 0.8995 - val_loss: 1.1490 - val_accuracy: 0.6994\n",
            "Epoch 16/25\n",
            "1563/1563 [==============================] - 17s 11ms/step - loss: 0.2646 - accuracy: 0.9087 - val_loss: 1.2156 - val_accuracy: 0.7101\n",
            "Epoch 17/25\n",
            "1563/1563 [==============================] - 17s 11ms/step - loss: 0.2524 - accuracy: 0.9120 - val_loss: 1.2717 - val_accuracy: 0.6922\n",
            "Epoch 18/25\n",
            "1563/1563 [==============================] - 15s 10ms/step - loss: 0.2420 - accuracy: 0.9169 - val_loss: 1.2457 - val_accuracy: 0.7104\n",
            "Epoch 19/25\n",
            "1563/1563 [==============================] - 16s 10ms/step - loss: 0.2306 - accuracy: 0.9217 - val_loss: 1.2476 - val_accuracy: 0.6992\n",
            "Epoch 20/25\n",
            "1563/1563 [==============================] - 15s 10ms/step - loss: 0.2184 - accuracy: 0.9250 - val_loss: 1.2826 - val_accuracy: 0.7039\n",
            "Epoch 21/25\n",
            "1563/1563 [==============================] - 15s 10ms/step - loss: 0.2100 - accuracy: 0.9274 - val_loss: 1.3524 - val_accuracy: 0.7061\n",
            "Epoch 22/25\n",
            "1563/1563 [==============================] - 15s 10ms/step - loss: 0.2070 - accuracy: 0.9296 - val_loss: 1.3494 - val_accuracy: 0.7037\n",
            "Epoch 23/25\n",
            "1563/1563 [==============================] - 15s 10ms/step - loss: 0.1973 - accuracy: 0.9322 - val_loss: 1.3729 - val_accuracy: 0.7073\n",
            "Epoch 24/25\n",
            "1563/1563 [==============================] - 15s 10ms/step - loss: 0.1879 - accuracy: 0.9371 - val_loss: 1.3780 - val_accuracy: 0.7101\n",
            "Epoch 25/25\n",
            "1563/1563 [==============================] - 17s 11ms/step - loss: 0.1771 - accuracy: 0.9411 - val_loss: 1.4194 - val_accuracy: 0.7112\n"
          ]
        },
        {
          "output_type": "execute_result",
          "data": {
            "text/plain": [
              "<keras.callbacks.History at 0x7f8d25dbc290>"
            ]
          },
          "metadata": {},
          "execution_count": 21
        }
      ]
    },
    {
      "cell_type": "code",
      "metadata": {
        "id": "BfA84NCwWgql"
      },
      "source": [
        "metrics=pd.DataFrame(model.history.history)"
      ],
      "execution_count": 23,
      "outputs": []
    },
    {
      "cell_type": "code",
      "metadata": {
        "colab": {
          "base_uri": "https://localhost:8080/",
          "height": 833
        },
        "id": "PG6IiZ8BWgm3",
        "outputId": "5f756634-5b3d-42c3-dfea-d3ef2dfe9d87"
      },
      "source": [
        "metrics"
      ],
      "execution_count": 24,
      "outputs": [
        {
          "output_type": "execute_result",
          "data": {
            "text/html": [
              "<div>\n",
              "<style scoped>\n",
              "    .dataframe tbody tr th:only-of-type {\n",
              "        vertical-align: middle;\n",
              "    }\n",
              "\n",
              "    .dataframe tbody tr th {\n",
              "        vertical-align: top;\n",
              "    }\n",
              "\n",
              "    .dataframe thead th {\n",
              "        text-align: right;\n",
              "    }\n",
              "</style>\n",
              "<table border=\"1\" class=\"dataframe\">\n",
              "  <thead>\n",
              "    <tr style=\"text-align: right;\">\n",
              "      <th></th>\n",
              "      <th>loss</th>\n",
              "      <th>accuracy</th>\n",
              "      <th>val_loss</th>\n",
              "      <th>val_accuracy</th>\n",
              "    </tr>\n",
              "  </thead>\n",
              "  <tbody>\n",
              "    <tr>\n",
              "      <th>0</th>\n",
              "      <td>1.514303</td>\n",
              "      <td>0.44746</td>\n",
              "      <td>1.262598</td>\n",
              "      <td>0.5526</td>\n",
              "    </tr>\n",
              "    <tr>\n",
              "      <th>1</th>\n",
              "      <td>1.109321</td>\n",
              "      <td>0.60744</td>\n",
              "      <td>0.997472</td>\n",
              "      <td>0.6531</td>\n",
              "    </tr>\n",
              "    <tr>\n",
              "      <th>2</th>\n",
              "      <td>0.944146</td>\n",
              "      <td>0.66948</td>\n",
              "      <td>0.911698</td>\n",
              "      <td>0.6889</td>\n",
              "    </tr>\n",
              "    <tr>\n",
              "      <th>3</th>\n",
              "      <td>0.830171</td>\n",
              "      <td>0.71000</td>\n",
              "      <td>0.911446</td>\n",
              "      <td>0.6841</td>\n",
              "    </tr>\n",
              "    <tr>\n",
              "      <th>4</th>\n",
              "      <td>0.735543</td>\n",
              "      <td>0.74234</td>\n",
              "      <td>0.898380</td>\n",
              "      <td>0.6893</td>\n",
              "    </tr>\n",
              "    <tr>\n",
              "      <th>5</th>\n",
              "      <td>0.656628</td>\n",
              "      <td>0.76990</td>\n",
              "      <td>0.859308</td>\n",
              "      <td>0.7067</td>\n",
              "    </tr>\n",
              "    <tr>\n",
              "      <th>6</th>\n",
              "      <td>0.590283</td>\n",
              "      <td>0.79274</td>\n",
              "      <td>0.898805</td>\n",
              "      <td>0.7093</td>\n",
              "    </tr>\n",
              "    <tr>\n",
              "      <th>7</th>\n",
              "      <td>0.529325</td>\n",
              "      <td>0.81272</td>\n",
              "      <td>0.934817</td>\n",
              "      <td>0.7018</td>\n",
              "    </tr>\n",
              "    <tr>\n",
              "      <th>8</th>\n",
              "      <td>0.479989</td>\n",
              "      <td>0.82972</td>\n",
              "      <td>0.931200</td>\n",
              "      <td>0.7051</td>\n",
              "    </tr>\n",
              "    <tr>\n",
              "      <th>9</th>\n",
              "      <td>0.436006</td>\n",
              "      <td>0.84710</td>\n",
              "      <td>0.966525</td>\n",
              "      <td>0.7164</td>\n",
              "    </tr>\n",
              "    <tr>\n",
              "      <th>10</th>\n",
              "      <td>0.393906</td>\n",
              "      <td>0.86080</td>\n",
              "      <td>1.011250</td>\n",
              "      <td>0.7085</td>\n",
              "    </tr>\n",
              "    <tr>\n",
              "      <th>11</th>\n",
              "      <td>0.358192</td>\n",
              "      <td>0.87286</td>\n",
              "      <td>1.027612</td>\n",
              "      <td>0.7117</td>\n",
              "    </tr>\n",
              "    <tr>\n",
              "      <th>12</th>\n",
              "      <td>0.331128</td>\n",
              "      <td>0.88352</td>\n",
              "      <td>1.106155</td>\n",
              "      <td>0.7037</td>\n",
              "    </tr>\n",
              "    <tr>\n",
              "      <th>13</th>\n",
              "      <td>0.312834</td>\n",
              "      <td>0.89046</td>\n",
              "      <td>1.087391</td>\n",
              "      <td>0.7062</td>\n",
              "    </tr>\n",
              "    <tr>\n",
              "      <th>14</th>\n",
              "      <td>0.287647</td>\n",
              "      <td>0.89952</td>\n",
              "      <td>1.149024</td>\n",
              "      <td>0.6994</td>\n",
              "    </tr>\n",
              "    <tr>\n",
              "      <th>15</th>\n",
              "      <td>0.264602</td>\n",
              "      <td>0.90866</td>\n",
              "      <td>1.215642</td>\n",
              "      <td>0.7101</td>\n",
              "    </tr>\n",
              "    <tr>\n",
              "      <th>16</th>\n",
              "      <td>0.252386</td>\n",
              "      <td>0.91200</td>\n",
              "      <td>1.271680</td>\n",
              "      <td>0.6922</td>\n",
              "    </tr>\n",
              "    <tr>\n",
              "      <th>17</th>\n",
              "      <td>0.241964</td>\n",
              "      <td>0.91694</td>\n",
              "      <td>1.245669</td>\n",
              "      <td>0.7104</td>\n",
              "    </tr>\n",
              "    <tr>\n",
              "      <th>18</th>\n",
              "      <td>0.230612</td>\n",
              "      <td>0.92166</td>\n",
              "      <td>1.247634</td>\n",
              "      <td>0.6992</td>\n",
              "    </tr>\n",
              "    <tr>\n",
              "      <th>19</th>\n",
              "      <td>0.218428</td>\n",
              "      <td>0.92504</td>\n",
              "      <td>1.282577</td>\n",
              "      <td>0.7039</td>\n",
              "    </tr>\n",
              "    <tr>\n",
              "      <th>20</th>\n",
              "      <td>0.210044</td>\n",
              "      <td>0.92744</td>\n",
              "      <td>1.352382</td>\n",
              "      <td>0.7061</td>\n",
              "    </tr>\n",
              "    <tr>\n",
              "      <th>21</th>\n",
              "      <td>0.207046</td>\n",
              "      <td>0.92962</td>\n",
              "      <td>1.349439</td>\n",
              "      <td>0.7037</td>\n",
              "    </tr>\n",
              "    <tr>\n",
              "      <th>22</th>\n",
              "      <td>0.197317</td>\n",
              "      <td>0.93218</td>\n",
              "      <td>1.372919</td>\n",
              "      <td>0.7073</td>\n",
              "    </tr>\n",
              "    <tr>\n",
              "      <th>23</th>\n",
              "      <td>0.187929</td>\n",
              "      <td>0.93714</td>\n",
              "      <td>1.378026</td>\n",
              "      <td>0.7101</td>\n",
              "    </tr>\n",
              "    <tr>\n",
              "      <th>24</th>\n",
              "      <td>0.177050</td>\n",
              "      <td>0.94106</td>\n",
              "      <td>1.419421</td>\n",
              "      <td>0.7112</td>\n",
              "    </tr>\n",
              "  </tbody>\n",
              "</table>\n",
              "</div>"
            ],
            "text/plain": [
              "        loss  accuracy  val_loss  val_accuracy\n",
              "0   1.514303   0.44746  1.262598        0.5526\n",
              "1   1.109321   0.60744  0.997472        0.6531\n",
              "2   0.944146   0.66948  0.911698        0.6889\n",
              "3   0.830171   0.71000  0.911446        0.6841\n",
              "4   0.735543   0.74234  0.898380        0.6893\n",
              "5   0.656628   0.76990  0.859308        0.7067\n",
              "6   0.590283   0.79274  0.898805        0.7093\n",
              "7   0.529325   0.81272  0.934817        0.7018\n",
              "8   0.479989   0.82972  0.931200        0.7051\n",
              "9   0.436006   0.84710  0.966525        0.7164\n",
              "10  0.393906   0.86080  1.011250        0.7085\n",
              "11  0.358192   0.87286  1.027612        0.7117\n",
              "12  0.331128   0.88352  1.106155        0.7037\n",
              "13  0.312834   0.89046  1.087391        0.7062\n",
              "14  0.287647   0.89952  1.149024        0.6994\n",
              "15  0.264602   0.90866  1.215642        0.7101\n",
              "16  0.252386   0.91200  1.271680        0.6922\n",
              "17  0.241964   0.91694  1.245669        0.7104\n",
              "18  0.230612   0.92166  1.247634        0.6992\n",
              "19  0.218428   0.92504  1.282577        0.7039\n",
              "20  0.210044   0.92744  1.352382        0.7061\n",
              "21  0.207046   0.92962  1.349439        0.7037\n",
              "22  0.197317   0.93218  1.372919        0.7073\n",
              "23  0.187929   0.93714  1.378026        0.7101\n",
              "24  0.177050   0.94106  1.419421        0.7112"
            ]
          },
          "metadata": {},
          "execution_count": 24
        }
      ]
    },
    {
      "cell_type": "code",
      "metadata": {
        "colab": {
          "base_uri": "https://localhost:8080/",
          "height": 282
        },
        "id": "j3MEgsTjd3Mc",
        "outputId": "a0e116a9-844f-4e2a-b7f4-44e2b2699c9d"
      },
      "source": [
        "metrics[['loss','val_loss']].plot()"
      ],
      "execution_count": 27,
      "outputs": [
        {
          "output_type": "execute_result",
          "data": {
            "text/plain": [
              "<matplotlib.axes._subplots.AxesSubplot at 0x7f8d25992790>"
            ]
          },
          "metadata": {},
          "execution_count": 27
        },
        {
          "output_type": "display_data",
          "data": {
            "image/png": "[encoded data removed]",
            "text/plain": [
              "<Figure size 432x288 with 1 Axes>"
            ]
          },
          "metadata": {
            "needs_background": "light"
          }
        }
      ]
    },
    {
      "cell_type": "code",
      "metadata": {
        "colab": {
          "base_uri": "https://localhost:8080/",
          "height": 282
        },
        "id": "f_Ru1N8IeK7R",
        "outputId": "731a8266-6cd2-4d04-c307-57603467aa06"
      },
      "source": [
        "metrics[['accuracy','val_accuracy']].plot()"
      ],
      "execution_count": 28,
      "outputs": [
        {
          "output_type": "execute_result",
          "data": {
            "text/plain": [
              "<matplotlib.axes._subplots.AxesSubplot at 0x7f8cad8bcb10>"
            ]
          },
          "metadata": {},
          "execution_count": 28
        },
        {
          "output_type": "display_data",
          "data": {
            "image/png": "[encoded data removed]",
            "text/plain": [
              "<Figure size 432x288 with 1 Axes>"
            ]
          },
          "metadata": {
            "needs_background": "light"
          }
        }
      ]
    },
    {
      "cell_type": "code",
      "metadata": {
        "id": "uY9D3VqieZx-"
      },
      "source": [
        "y_pred=(model.predict(X_test)>0.5)*1"
      ],
      "execution_count": 44,
      "outputs": []
    },
    {
      "cell_type": "code",
      "metadata": {
        "id": "Pmyp0kWdeZrp"
      },
      "source": [
        "from sklearn.metrics import classification_report,confusion_matrix"
      ],
      "execution_count": 32,
      "outputs": []
    },
    {
      "cell_type": "code",
      "metadata": {
        "colab": {
          "base_uri": "https://localhost:8080/"
        },
        "id": "YaqddDFCfkpb",
        "outputId": "5d3b601f-665f-476d-e99f-44d14bbccd70"
      },
      "source": [
        "print(classification_report(y_test,y_pred))"
      ],
      "execution_count": 46,
      "outputs": [
        {
          "output_type": "stream",
          "name": "stdout",
          "text": [
            "              precision    recall  f1-score   support\n",
            "\n",
            "           0       0.77      0.74      0.75      1000\n",
            "           1       0.85      0.81      0.83      1000\n",
            "           2       0.64      0.60      0.62      1000\n",
            "           3       0.58      0.43      0.49      1000\n",
            "           4       0.69      0.61      0.65      1000\n",
            "           5       0.62      0.60      0.61      1000\n",
            "           6       0.75      0.79      0.77      1000\n",
            "           7       0.79      0.75      0.77      1000\n",
            "           8       0.81      0.85      0.83      1000\n",
            "           9       0.80      0.80      0.80      1000\n",
            "\n",
            "   micro avg       0.73      0.70      0.72     10000\n",
            "   macro avg       0.73      0.70      0.71     10000\n",
            "weighted avg       0.73      0.70      0.71     10000\n",
            " samples avg       0.70      0.70      0.70     10000\n",
            "\n"
          ]
        },
        {
          "output_type": "stream",
          "name": "stderr",
          "text": [
            "/usr/local/lib/python3.7/dist-packages/sklearn/metrics/_classification.py:1308: UndefinedMetricWarning: Precision and F-score are ill-defined and being set to 0.0 in samples with no predicted labels. Use `zero_division` parameter to control this behavior.\n",
            "  _warn_prf(average, modifier, msg_start, len(result))\n"
          ]
        }
      ]
    },
    {
      "cell_type": "code",
      "metadata": {
        "id": "sDri8p5xhVYL"
      },
      "source": [
        "import seaborn as sns"
      ],
      "execution_count": 50,
      "outputs": []
    },
    {
      "cell_type": "code",
      "metadata": {
        "colab": {
          "base_uri": "https://localhost:8080/",
          "height": 500
        },
        "id": "KTdVX-s3gnBH",
        "outputId": "058db208-bf67-4ccc-cbbd-2adb5b9381a4"
      },
      "source": [
        "plt.figure(figsize=(10,8))\n",
        "sns.heatmap(confusion_matrix(y_test.argmax(axis=1),y_pred.argmax(axis=1)),annot=True)"
      ],
      "execution_count": 55,
      "outputs": [
        {
          "output_type": "execute_result",
          "data": {
            "text/plain": [
              "<matplotlib.axes._subplots.AxesSubplot at 0x7f8c9f499750>"
            ]
          },
          "metadata": {},
          "execution_count": 55
        },
        {
          "output_type": "display_data",
          "data": {
            "image/png": "[encoded data removed]",
            "text/plain": [
              "<Figure size 720x576 with 2 Axes>"
            ]
          },
          "metadata": {
            "needs_background": "light"
          }
        }
      ]
    },
    {
      "cell_type": "code",
      "metadata": {
        "id": "vg29TNoWhGvc"
      },
      "source": [
        ""
      ],
      "execution_count": null,
      "outputs": []
    }
  ]
}